{
 "cells": [
  {
   "cell_type": "code",
   "execution_count": 261,
   "metadata": {},
   "outputs": [
    {
     "data": {
      "text/html": [
       "<style>\n",
       "/* 本电子讲义使用之CSS */\n",
       "div.code_cell {\n",
       "    background-color: #e5f1fe;\n",
       "}\n",
       "div.cell.selected {\n",
       "    background-color: #effee2;\n",
       "    font-size: 2rem;\n",
       "    line-height: 2.4rem;\n",
       "}\n",
       "div.cell.selected .rendered_html table {\n",
       "    font-size: 2rem !important;\n",
       "    line-height: 2.4rem !important;\n",
       "}\n",
       ".rendered_html pre code {\n",
       "    background-color: #C4E4ff;   \n",
       "    padding: 2px 25px;\n",
       "}\n",
       ".rendered_html pre {\n",
       "    background-color: #99c9ff;\n",
       "}\n",
       "div.code_cell .CodeMirror {\n",
       "    font-size: 2rem !important;\n",
       "    line-height: 2.4rem !important;\n",
       "}\n",
       ".rendered_html img, .rendered_html svg {\n",
       "    max-width: 50%;\n",
       "    height: auto;\n",
       "    float: center;\n",
       "}\n",
       "/* Gradient transparent - color - transparent */\n",
       "hr {\n",
       "    border: 0;\n",
       "    border-bottom: 1px dashed #ccc;\n",
       "}\n",
       ".emoticon{\n",
       "    font-size: 5rem;\n",
       "    line-height: 4.4rem;\n",
       "    text-align: center;\n",
       "    vertical-align: middle;\n",
       "}\n",
       "\n",
       "</style>\n"
      ],
      "text/plain": [
       "<IPython.core.display.HTML object>"
      ]
     },
     "metadata": {},
     "output_type": "display_data"
    }
   ],
   "source": [
    "%%html\n",
    "<style>\n",
    "/* 本电子讲义使用之CSS */\n",
    "div.code_cell {\n",
    "    background-color: #e5f1fe;\n",
    "}\n",
    "div.cell.selected {\n",
    "    background-color: #effee2;\n",
    "    font-size: 2rem;\n",
    "    line-height: 2.4rem;\n",
    "}\n",
    "div.cell.selected .rendered_html table {\n",
    "    font-size: 2rem !important;\n",
    "    line-height: 2.4rem !important;\n",
    "}\n",
    ".rendered_html pre code {\n",
    "    background-color: #C4E4ff;   \n",
    "    padding: 2px 25px;\n",
    "}\n",
    ".rendered_html pre {\n",
    "    background-color: #99c9ff;\n",
    "}\n",
    "div.code_cell .CodeMirror {\n",
    "    font-size: 2rem !important;\n",
    "    line-height: 2.4rem !important;\n",
    "}\n",
    ".rendered_html img, .rendered_html svg {\n",
    "    max-width: 50%;\n",
    "    height: auto;\n",
    "    float: center;\n",
    "}\n",
    "/* Gradient transparent - color - transparent */\n",
    "hr {\n",
    "    border: 0;\n",
    "    border-bottom: 1px dashed #ccc;\n",
    "}\n",
    ".emoticon{\n",
    "    font-size: 5rem;\n",
    "    line-height: 4.4rem;\n",
    "    text-align: center;\n",
    "    vertical-align: middle;\n",
    "}\n",
    "\n",
    "</style>"
   ]
  },
  {
   "cell_type": "markdown",
   "metadata": {},
   "source": [
    "# Face++ "
   ]
  },
  {
   "cell_type": "markdown",
   "metadata": {},
   "source": [
    "### 引入模板"
   ]
  },
  {
   "cell_type": "code",
   "execution_count": 116,
   "metadata": {},
   "outputs": [],
   "source": [
    "import requests\n",
    "import json\n",
    "import pandas as pd\n",
    "from pandas.io.json import json_normalize"
   ]
  },
  {
   "cell_type": "code",
   "execution_count": 265,
   "metadata": {},
   "outputs": [
    {
     "name": "stdout",
     "output_type": "stream",
     "text": [
      "200\n",
      "{'request_id': '1585820852,1df20cde-b841-48f1-aace-c6295b72e173', 'time_used': 148, 'faces': [{'face_token': 'e5ea3d71886779323c0a91060dbd98ec', 'face_rectangle': {'top': 90, 'left': 84, 'width': 101, 'height': 101}, 'attributes': {'gender': {'value': 'Female'}, 'age': {'value': 22}, 'eyestatus': {'left_eye_status': {'no_glass_eye_open': 99.42, 'no_glass_eye_close': 0.0, 'normal_glass_eye_open': 0.573, 'normal_glass_eye_close': 0.0, 'dark_glasses': 0.003, 'occlusion': 0.004}, 'right_eye_status': {'no_glass_eye_open': 99.974, 'no_glass_eye_close': 0.0, 'normal_glass_eye_open': 0.026, 'normal_glass_eye_close': 0.0, 'dark_glasses': 0.0, 'occlusion': 0.0}}, 'emotion': {'anger': 0.262, 'disgust': 0.011, 'fear': 0.05, 'happiness': 0.017, 'neutral': 19.877, 'sadness': 0.011, 'surprise': 79.773}, 'glass': {'value': 'None'}}}], 'image_id': 'YFOim35T7ctmX5MEXDRBew==', 'face_num': 1}\n"
     ]
    }
   ],
   "source": [
    "API_Key = 'LnOqEqIWy1aCvlmej9imIBqUP2ju99kO'\n",
    "API_Secret = '4gH9yU5pySYPiYgms0_WOrbCSptabUXG'\n",
    "\n",
    "base_url = 'https://api-cn.faceplusplus.com/facepp/v3/detect'\n",
    "img_url = 'https://ss2.bdstatic.com/70cFvnSh_Q1YnxGkpoWK1HF6hhy/it/u=1281705909,1438385339&fm=26&gp=0.jpg'\n",
    "\n",
    "headers = {\n",
    "    'Content-Type': 'application/json',\n",
    "}\n",
    "\n",
    "payload = {\n",
    "    \"image_url\":img_url,\n",
    "    'api_key': API_Key,\n",
    "    'api_secret': API_Secret,\n",
    "    'return_attributes':'gender,age,eyestatus,emotion',\n",
    "}\n",
    "\n",
    "r = requests.post(base_url, params=payload, headers=headers)\n",
    "\n",
    "print(r.status_code) #请求状态码\n",
    "face_base_content = r.content\n",
    "result = r.json()\n",
    "print(result)"
   ]
  },
  {
   "cell_type": "code",
   "execution_count": 293,
   "metadata": {},
   "outputs": [
    {
     "name": "stdout",
     "output_type": "stream",
     "text": [
      "性别： Female\n",
      "年龄： 22\n",
      "不戴眼镜的置信度： 99.42\n"
     ]
    }
   ],
   "source": [
    "# 性别，年龄，戴眼镜\n",
    "face_gender = result[\"faces\"][0][\"attributes\"][\"gender\"][\"value\"]\n",
    "print('性别：',face_gender)\n",
    "face_age = result[\"faces\"][0][\"attributes\"][\"age\"][\"value\"]\n",
    "print('年龄：',face_age)\n",
    "face_glass = result[\"faces\"][0][\"attributes\"][\"eyestatus\"][\"left_eye_status\"][\"no_glass_eye_open\"]\n",
    "print('不戴眼镜的置信度：',face_glass)"
   ]
  },
  {
   "cell_type": "code",
   "execution_count": 294,
   "metadata": {},
   "outputs": [
    {
     "name": "stdout",
     "output_type": "stream",
     "text": [
      "{'anger': 0.262, 'disgust': 0.011, 'fear': 0.05, 'happiness': 0.017, 'neutral': 19.877, 'sadness': 0.011, 'surprise': 79.773}\n"
     ]
    }
   ],
   "source": [
    "# 表情\n",
    "face_emotion = result[\"faces\"][0][\"attributes\"][\"emotion\"]\n",
    "print(face_emotion)"
   ]
  },
  {
   "cell_type": "code",
   "execution_count": 296,
   "metadata": {},
   "outputs": [
    {
     "data": {
      "text/html": [
       "<div>\n",
       "<style scoped>\n",
       "    .dataframe tbody tr th:only-of-type {\n",
       "        vertical-align: middle;\n",
       "    }\n",
       "\n",
       "    .dataframe tbody tr th {\n",
       "        vertical-align: top;\n",
       "    }\n",
       "\n",
       "    .dataframe thead th {\n",
       "        text-align: right;\n",
       "    }\n",
       "</style>\n",
       "<table border=\"1\" class=\"dataframe\">\n",
       "  <thead>\n",
       "    <tr style=\"text-align: right;\">\n",
       "      <th></th>\n",
       "      <th>0</th>\n",
       "    </tr>\n",
       "  </thead>\n",
       "  <tbody>\n",
       "    <tr>\n",
       "      <td>age</td>\n",
       "      <td>{'value': 22}</td>\n",
       "    </tr>\n",
       "    <tr>\n",
       "      <td>emotion</td>\n",
       "      <td>{'anger': 0.262, 'disgust': 0.011, 'fear': 0.0...</td>\n",
       "    </tr>\n",
       "    <tr>\n",
       "      <td>eyestatus</td>\n",
       "      <td>{'left_eye_status': {'no_glass_eye_open': 99.4...</td>\n",
       "    </tr>\n",
       "    <tr>\n",
       "      <td>gender</td>\n",
       "      <td>{'value': 'Female'}</td>\n",
       "    </tr>\n",
       "    <tr>\n",
       "      <td>glass</td>\n",
       "      <td>{'value': 'None'}</td>\n",
       "    </tr>\n",
       "  </tbody>\n",
       "</table>\n",
       "</div>"
      ],
      "text/plain": [
       "                                                           0\n",
       "age                                            {'value': 22}\n",
       "emotion    {'anger': 0.262, 'disgust': 0.011, 'fear': 0.0...\n",
       "eyestatus  {'left_eye_status': {'no_glass_eye_open': 99.4...\n",
       "gender                                   {'value': 'Female'}\n",
       "glass                                      {'value': 'None'}"
      ]
     },
     "execution_count": 296,
     "metadata": {},
     "output_type": "execute_result"
    }
   ],
   "source": [
    "faces_data = result['faces']\n",
    "#df = pd.DataFrame(faces_data)\n",
    "faces = pd.DataFrame(df[\"attributes\"].to_dict())\n",
    "faces"
   ]
  },
  {
   "cell_type": "markdown",
   "metadata": {},
   "source": [
    "# Azure"
   ]
  },
  {
   "cell_type": "code",
   "execution_count": null,
   "metadata": {},
   "outputs": [],
   "source": [
    "#存放图片链接\n",
    "#http://newmedia.nfu.edu.cn/wcy/wp-content/uploads/2018/04/post_20180424__NFU_DoraHacks_imoji%E5%9B%A2%E9%98%9F.jpg\n",
    "#https://ss2.bdstatic.com/70cFvnSh_Q1YnxGkpoWK1HF6hhy/it/u=1281705909,1438385339&fm=26&gp=0.jpg"
   ]
  },
  {
   "cell_type": "markdown",
   "metadata": {},
   "source": [
    "# 以下的代码只能识别单人的照片"
   ]
  },
  {
   "cell_type": "code",
   "execution_count": 129,
   "metadata": {},
   "outputs": [
    {
     "name": "stdout",
     "output_type": "stream",
     "text": [
      "200\n"
     ]
    }
   ],
   "source": [
    "# 先导入为们需要的模块\n",
    "import requests\n",
    "import json\n",
    "\n",
    "KEY = '83af77d8caa24ea18741d48c5c805f9a'  # Replace with a valid Subscription Key here.\n",
    "\n",
    "# Base URL,  Request URL中 符号?以前\n",
    "#。                          eastasia.api.cognitive.microsoft.com  ==》{endpoint}\n",
    "BASE_URL = 'https://westcentralus.api.cognitive.microsoft.com/face/v1.0/detect' # 人脸检测\n",
    "\n",
    "# 沿用API的示范代碼，{subscription key}用KEY代入\n",
    "HEADERS = {\n",
    "    # Request headers\n",
    "    'Content-Type': 'application/json',\n",
    "    'Ocp-Apim-Subscription-Key': '{}'.format(KEY), #''\n",
    "}\n",
    "\n",
    "img_url = 'https://ss2.bdstatic.com/70cFvnSh_Q1YnxGkpoWK1HF6hhy/it/u=1281705909,1438385339&fm=26&gp=0.jpg'\n",
    "\n",
    "data = {\n",
    "    'url': '{}'.format(img_url),\n",
    "}\n",
    "payload = {\n",
    "    'returnFaceId': 'true',\n",
    "    'returnFaceLandmarks': 'flase',\n",
    "    'returnFaceAttributes': '{}'.format('age,gender,glasses,emotion'),\n",
    "}\n",
    "\n",
    "r = requests.post(BASE_URL,data=json.dumps(data),params = payload,headers=HEADERS)\n",
    "print(r.status_code)"
   ]
  },
  {
   "cell_type": "code",
   "execution_count": 130,
   "metadata": {},
   "outputs": [
    {
     "name": "stdout",
     "output_type": "stream",
     "text": [
      "b'[{\"faceId\":\"c28054cb-033c-4340-a794-c8c698ed1e06\",\"faceRectangle\":{\"top\":84,\"left\":71,\"width\":108,\"height\":108},\"faceAttributes\":{\"gender\":\"female\",\"age\":18.0,\"glasses\":\"NoGlasses\",\"emotion\":{\"anger\":0.0,\"contempt\":0.0,\"disgust\":0.0,\"fear\":0.0,\"happiness\":0.0,\"neutral\":0.998,\"sadness\":0.001,\"surprise\":0.0}}}]'\n"
     ]
    }
   ],
   "source": [
    "print(r.content)"
   ]
  },
  {
   "cell_type": "code",
   "execution_count": 131,
   "metadata": {},
   "outputs": [
    {
     "data": {
      "text/plain": [
       "{'faceId': 'c28054cb-033c-4340-a794-c8c698ed1e06',\n",
       " 'faceRectangle': {'top': 84, 'left': 71, 'width': 108, 'height': 108},\n",
       " 'faceAttributes': {'gender': 'female',\n",
       "  'age': 18.0,\n",
       "  'glasses': 'NoGlasses',\n",
       "  'emotion': {'anger': 0.0,\n",
       "   'contempt': 0.0,\n",
       "   'disgust': 0.0,\n",
       "   'fear': 0.0,\n",
       "   'happiness': 0.0,\n",
       "   'neutral': 0.998,\n",
       "   'sadness': 0.001,\n",
       "   'surprise': 0.0}}}"
      ]
     },
     "execution_count": 131,
     "metadata": {},
     "output_type": "execute_result"
    }
   ],
   "source": [
    "result = r.json()\n",
    "result[0]"
   ]
  },
  {
   "cell_type": "code",
   "execution_count": 132,
   "metadata": {},
   "outputs": [],
   "source": [
    "# 引入pandas模块\n",
    "import pandas as pd"
   ]
  },
  {
   "cell_type": "code",
   "execution_count": 133,
   "metadata": {},
   "outputs": [
    {
     "data": {
      "text/html": [
       "<div>\n",
       "<style scoped>\n",
       "    .dataframe tbody tr th:only-of-type {\n",
       "        vertical-align: middle;\n",
       "    }\n",
       "\n",
       "    .dataframe tbody tr th {\n",
       "        vertical-align: top;\n",
       "    }\n",
       "\n",
       "    .dataframe thead th {\n",
       "        text-align: right;\n",
       "    }\n",
       "</style>\n",
       "<table border=\"1\" class=\"dataframe\">\n",
       "  <thead>\n",
       "    <tr style=\"text-align: right;\">\n",
       "      <th></th>\n",
       "      <th>faceId</th>\n",
       "      <th>faceRectangle</th>\n",
       "      <th>faceAttributes</th>\n",
       "    </tr>\n",
       "  </thead>\n",
       "  <tbody>\n",
       "    <tr>\n",
       "      <td>top</td>\n",
       "      <td>c28054cb-033c-4340-a794-c8c698ed1e06</td>\n",
       "      <td>84.0</td>\n",
       "      <td>NaN</td>\n",
       "    </tr>\n",
       "    <tr>\n",
       "      <td>left</td>\n",
       "      <td>c28054cb-033c-4340-a794-c8c698ed1e06</td>\n",
       "      <td>71.0</td>\n",
       "      <td>NaN</td>\n",
       "    </tr>\n",
       "    <tr>\n",
       "      <td>width</td>\n",
       "      <td>c28054cb-033c-4340-a794-c8c698ed1e06</td>\n",
       "      <td>108.0</td>\n",
       "      <td>NaN</td>\n",
       "    </tr>\n",
       "    <tr>\n",
       "      <td>height</td>\n",
       "      <td>c28054cb-033c-4340-a794-c8c698ed1e06</td>\n",
       "      <td>108.0</td>\n",
       "      <td>NaN</td>\n",
       "    </tr>\n",
       "    <tr>\n",
       "      <td>gender</td>\n",
       "      <td>c28054cb-033c-4340-a794-c8c698ed1e06</td>\n",
       "      <td>NaN</td>\n",
       "      <td>female</td>\n",
       "    </tr>\n",
       "    <tr>\n",
       "      <td>age</td>\n",
       "      <td>c28054cb-033c-4340-a794-c8c698ed1e06</td>\n",
       "      <td>NaN</td>\n",
       "      <td>18</td>\n",
       "    </tr>\n",
       "    <tr>\n",
       "      <td>glasses</td>\n",
       "      <td>c28054cb-033c-4340-a794-c8c698ed1e06</td>\n",
       "      <td>NaN</td>\n",
       "      <td>NoGlasses</td>\n",
       "    </tr>\n",
       "    <tr>\n",
       "      <td>emotion</td>\n",
       "      <td>c28054cb-033c-4340-a794-c8c698ed1e06</td>\n",
       "      <td>NaN</td>\n",
       "      <td>{'anger': 0.0, 'contempt': 0.0, 'disgust': 0.0...</td>\n",
       "    </tr>\n",
       "  </tbody>\n",
       "</table>\n",
       "</div>"
      ],
      "text/plain": [
       "                                       faceId  faceRectangle  \\\n",
       "top      c28054cb-033c-4340-a794-c8c698ed1e06           84.0   \n",
       "left     c28054cb-033c-4340-a794-c8c698ed1e06           71.0   \n",
       "width    c28054cb-033c-4340-a794-c8c698ed1e06          108.0   \n",
       "height   c28054cb-033c-4340-a794-c8c698ed1e06          108.0   \n",
       "gender   c28054cb-033c-4340-a794-c8c698ed1e06            NaN   \n",
       "age      c28054cb-033c-4340-a794-c8c698ed1e06            NaN   \n",
       "glasses  c28054cb-033c-4340-a794-c8c698ed1e06            NaN   \n",
       "emotion  c28054cb-033c-4340-a794-c8c698ed1e06            NaN   \n",
       "\n",
       "                                            faceAttributes  \n",
       "top                                                    NaN  \n",
       "left                                                   NaN  \n",
       "width                                                  NaN  \n",
       "height                                                 NaN  \n",
       "gender                                              female  \n",
       "age                                                     18  \n",
       "glasses                                          NoGlasses  \n",
       "emotion  {'anger': 0.0, 'contempt': 0.0, 'disgust': 0.0...  "
      ]
     },
     "execution_count": 133,
     "metadata": {},
     "output_type": "execute_result"
    }
   ],
   "source": [
    "faces_data = result[0]\n",
    "df = pd.DataFrame(faces_data)\n",
    "df"
   ]
  },
  {
   "cell_type": "code",
   "execution_count": 134,
   "metadata": {},
   "outputs": [
    {
     "data": {
      "text/html": [
       "<div>\n",
       "<style scoped>\n",
       "    .dataframe tbody tr th:only-of-type {\n",
       "        vertical-align: middle;\n",
       "    }\n",
       "\n",
       "    .dataframe tbody tr th {\n",
       "        vertical-align: top;\n",
       "    }\n",
       "\n",
       "    .dataframe thead th {\n",
       "        text-align: right;\n",
       "    }\n",
       "</style>\n",
       "<table border=\"1\" class=\"dataframe\">\n",
       "  <thead>\n",
       "    <tr style=\"text-align: right;\">\n",
       "      <th></th>\n",
       "      <th>faceAttributes</th>\n",
       "    </tr>\n",
       "  </thead>\n",
       "  <tbody>\n",
       "    <tr>\n",
       "      <td>gender</td>\n",
       "      <td>female</td>\n",
       "    </tr>\n",
       "    <tr>\n",
       "      <td>age</td>\n",
       "      <td>18</td>\n",
       "    </tr>\n",
       "    <tr>\n",
       "      <td>glasses</td>\n",
       "      <td>NoGlasses</td>\n",
       "    </tr>\n",
       "  </tbody>\n",
       "</table>\n",
       "</div>"
      ],
      "text/plain": [
       "        faceAttributes\n",
       "gender          female\n",
       "age                 18\n",
       "glasses      NoGlasses"
      ]
     },
     "execution_count": 134,
     "metadata": {},
     "output_type": "execute_result"
    }
   ],
   "source": [
    "df[['faceAttributes']].tail(4).head(3)"
   ]
  },
  {
   "cell_type": "code",
   "execution_count": 135,
   "metadata": {},
   "outputs": [
    {
     "name": "stdout",
     "output_type": "stream",
     "text": [
      "            结果\n",
      "neutral  0.998\n",
      "sadness  0.001\n",
      "anger    0.000\n"
     ]
    }
   ],
   "source": [
    "emotion = result[0][\"faceAttributes\"][\"emotion\"]\n",
    "emotion\n",
    "face_emotion = pd.DataFrame(emotion,index=['结果']).T.nlargest(3,'结果')\n",
    "print(face_emotion)"
   ]
  },
  {
   "cell_type": "markdown",
   "metadata": {},
   "source": [
    "# 以下的代码用于识别多人"
   ]
  },
  {
   "cell_type": "code",
   "execution_count": 142,
   "metadata": {},
   "outputs": [
    {
     "name": "stdout",
     "output_type": "stream",
     "text": [
      "200\n"
     ]
    }
   ],
   "source": [
    "# 先导入为们需要的模块\n",
    "import requests\n",
    "import json\n",
    "import pandas as pd\n",
    "\n",
    "KEY = '83af77d8caa24ea18741d48c5c805f9a'  # Replace with a valid Subscription Key here.\n",
    "\n",
    "# Base URL,  Request URL中 符号?以前\n",
    "#。                          eastasia.api.cognitive.microsoft.com  ==》{endpoint}\n",
    "BASE_URL = 'https://westcentralus.api.cognitive.microsoft.com/face/v1.0/detect' # 人脸检测\n",
    "\n",
    "# 沿用API的示范代碼，{subscription key}用KEY代入\n",
    "HEADERS = {\n",
    "    # Request headers\n",
    "    'Content-Type': 'application/json',\n",
    "    'Ocp-Apim-Subscription-Key': '{}'.format(KEY), #''\n",
    "}\n",
    "\n",
    "img_url = 'http://newmedia.nfu.edu.cn/wcy/wp-content/uploads/2018/04/post_20180424__NFU_DoraHacks_imoji%E5%9B%A2%E9%98%9F.jpg'\n",
    "\n",
    "data = {\n",
    "    'url': '{}'.format(img_url),\n",
    "}\n",
    "payload = {\n",
    "    'returnFaceId': 'true',\n",
    "    'returnFaceLandmarks': 'flase',\n",
    "    'returnFaceAttributes': '{}'.format('age,gender,glasses,emotion'),\n",
    "}\n",
    "\n",
    "r = requests.post(BASE_URL,data=json.dumps(data),params = payload,headers=HEADERS)\n",
    "print(r.status_code)"
   ]
  },
  {
   "cell_type": "code",
   "execution_count": 178,
   "metadata": {},
   "outputs": [
    {
     "data": {
      "text/plain": [
       "[{'faceId': '1f082993-e962-4cb3-bd16-33a31e3f9288',\n",
       "  'faceRectangle': {'top': 118, 'left': 144, 'width': 88, 'height': 88},\n",
       "  'faceAttributes': {'gender': 'male',\n",
       "   'age': 18.0,\n",
       "   'glasses': 'NoGlasses',\n",
       "   'emotion': {'anger': 0.0,\n",
       "    'contempt': 0.003,\n",
       "    'disgust': 0.0,\n",
       "    'fear': 0.0,\n",
       "    'happiness': 0.813,\n",
       "    'neutral': 0.184,\n",
       "    'sadness': 0.0,\n",
       "    'surprise': 0.0}}},\n",
       " {'faceId': '1eb9f8d7-98cb-40e5-81cc-43aa53ed8dbe',\n",
       "  'faceRectangle': {'top': 117, 'left': 376, 'width': 64, 'height': 64},\n",
       "  'faceAttributes': {'gender': 'female',\n",
       "   'age': 20.0,\n",
       "   'glasses': 'NoGlasses',\n",
       "   'emotion': {'anger': 0.0,\n",
       "    'contempt': 0.001,\n",
       "    'disgust': 0.0,\n",
       "    'fear': 0.0,\n",
       "    'happiness': 0.456,\n",
       "    'neutral': 0.542,\n",
       "    'sadness': 0.001,\n",
       "    'surprise': 0.0}}},\n",
       " {'faceId': 'b13d9a86-e456-4ab6-8173-c78041f759f3',\n",
       "  'faceRectangle': {'top': 41, 'left': 676, 'width': 52, 'height': 52},\n",
       "  'faceAttributes': {'gender': 'male',\n",
       "   'age': 23.0,\n",
       "   'glasses': 'ReadingGlasses',\n",
       "   'emotion': {'anger': 0.0,\n",
       "    'contempt': 0.0,\n",
       "    'disgust': 0.0,\n",
       "    'fear': 0.0,\n",
       "    'happiness': 1.0,\n",
       "    'neutral': 0.0,\n",
       "    'sadness': 0.0,\n",
       "    'surprise': 0.0}}},\n",
       " {'faceId': 'cff8b061-38cf-4d72-87b4-65094d0488b1',\n",
       "  'faceRectangle': {'top': 69, 'left': 445, 'width': 52, 'height': 52},\n",
       "  'faceAttributes': {'gender': 'female',\n",
       "   'age': 21.0,\n",
       "   'glasses': 'NoGlasses',\n",
       "   'emotion': {'anger': 0.0,\n",
       "    'contempt': 0.0,\n",
       "    'disgust': 0.0,\n",
       "    'fear': 0.0,\n",
       "    'happiness': 1.0,\n",
       "    'neutral': 0.0,\n",
       "    'sadness': 0.0,\n",
       "    'surprise': 0.0}}},\n",
       " {'faceId': 'bbec115a-ddbb-4a53-b96d-e61ac84443da',\n",
       "  'faceRectangle': {'top': 95, 'left': 238, 'width': 51, 'height': 51},\n",
       "  'faceAttributes': {'gender': 'female',\n",
       "   'age': 17.0,\n",
       "   'glasses': 'ReadingGlasses',\n",
       "   'emotion': {'anger': 0.0,\n",
       "    'contempt': 0.0,\n",
       "    'disgust': 0.0,\n",
       "    'fear': 0.0,\n",
       "    'happiness': 0.981,\n",
       "    'neutral': 0.019,\n",
       "    'sadness': 0.0,\n",
       "    'surprise': 0.0}}},\n",
       " {'faceId': 'f38e9e72-7a18-4156-b240-110f26faa5e6',\n",
       "  'faceRectangle': {'top': 94, 'left': 540, 'width': 48, 'height': 48},\n",
       "  'faceAttributes': {'gender': 'female',\n",
       "   'age': 19.0,\n",
       "   'glasses': 'NoGlasses',\n",
       "   'emotion': {'anger': 0.0,\n",
       "    'contempt': 0.0,\n",
       "    'disgust': 0.0,\n",
       "    'fear': 0.0,\n",
       "    'happiness': 1.0,\n",
       "    'neutral': 0.0,\n",
       "    'sadness': 0.0,\n",
       "    'surprise': 0.0}}}]"
      ]
     },
     "execution_count": 178,
     "metadata": {},
     "output_type": "execute_result"
    }
   ],
   "source": [
    "result = r.json()\n",
    "result"
   ]
  },
  {
   "cell_type": "code",
   "execution_count": 155,
   "metadata": {},
   "outputs": [
    {
     "data": {
      "text/html": [
       "<div>\n",
       "<style scoped>\n",
       "    .dataframe tbody tr th:only-of-type {\n",
       "        vertical-align: middle;\n",
       "    }\n",
       "\n",
       "    .dataframe tbody tr th {\n",
       "        vertical-align: top;\n",
       "    }\n",
       "\n",
       "    .dataframe thead th {\n",
       "        text-align: right;\n",
       "    }\n",
       "</style>\n",
       "<table border=\"1\" class=\"dataframe\">\n",
       "  <thead>\n",
       "    <tr style=\"text-align: right;\">\n",
       "      <th></th>\n",
       "      <th>faceAttributes</th>\n",
       "    </tr>\n",
       "  </thead>\n",
       "  <tbody>\n",
       "    <tr>\n",
       "      <td>0</td>\n",
       "      <td>{'gender': 'male', 'age': 18.0, 'glasses': 'No...</td>\n",
       "    </tr>\n",
       "    <tr>\n",
       "      <td>1</td>\n",
       "      <td>{'gender': 'female', 'age': 20.0, 'glasses': '...</td>\n",
       "    </tr>\n",
       "    <tr>\n",
       "      <td>2</td>\n",
       "      <td>{'gender': 'male', 'age': 23.0, 'glasses': 'Re...</td>\n",
       "    </tr>\n",
       "    <tr>\n",
       "      <td>3</td>\n",
       "      <td>{'gender': 'female', 'age': 21.0, 'glasses': '...</td>\n",
       "    </tr>\n",
       "    <tr>\n",
       "      <td>4</td>\n",
       "      <td>{'gender': 'female', 'age': 17.0, 'glasses': '...</td>\n",
       "    </tr>\n",
       "    <tr>\n",
       "      <td>5</td>\n",
       "      <td>{'gender': 'female', 'age': 19.0, 'glasses': '...</td>\n",
       "    </tr>\n",
       "  </tbody>\n",
       "</table>\n",
       "</div>"
      ],
      "text/plain": [
       "                                      faceAttributes\n",
       "0  {'gender': 'male', 'age': 18.0, 'glasses': 'No...\n",
       "1  {'gender': 'female', 'age': 20.0, 'glasses': '...\n",
       "2  {'gender': 'male', 'age': 23.0, 'glasses': 'Re...\n",
       "3  {'gender': 'female', 'age': 21.0, 'glasses': '...\n",
       "4  {'gender': 'female', 'age': 17.0, 'glasses': '...\n",
       "5  {'gender': 'female', 'age': 19.0, 'glasses': '..."
      ]
     },
     "execution_count": 155,
     "metadata": {},
     "output_type": "execute_result"
    }
   ],
   "source": [
    "df = pd.DataFrame(result)\n",
    "df[['faceAttributes']]"
   ]
  },
  {
   "cell_type": "code",
   "execution_count": 182,
   "metadata": {
    "scrolled": true
   },
   "outputs": [
    {
     "data": {
      "text/plain": [
       "{0: {'gender': 'male',\n",
       "  'age': 18.0,\n",
       "  'glasses': 'NoGlasses',\n",
       "  'emotion': {'anger': 0.0,\n",
       "   'contempt': 0.003,\n",
       "   'disgust': 0.0,\n",
       "   'fear': 0.0,\n",
       "   'happiness': 0.813,\n",
       "   'neutral': 0.184,\n",
       "   'sadness': 0.0,\n",
       "   'surprise': 0.0}},\n",
       " 1: {'gender': 'female',\n",
       "  'age': 20.0,\n",
       "  'glasses': 'NoGlasses',\n",
       "  'emotion': {'anger': 0.0,\n",
       "   'contempt': 0.001,\n",
       "   'disgust': 0.0,\n",
       "   'fear': 0.0,\n",
       "   'happiness': 0.456,\n",
       "   'neutral': 0.542,\n",
       "   'sadness': 0.001,\n",
       "   'surprise': 0.0}},\n",
       " 2: {'gender': 'male',\n",
       "  'age': 23.0,\n",
       "  'glasses': 'ReadingGlasses',\n",
       "  'emotion': {'anger': 0.0,\n",
       "   'contempt': 0.0,\n",
       "   'disgust': 0.0,\n",
       "   'fear': 0.0,\n",
       "   'happiness': 1.0,\n",
       "   'neutral': 0.0,\n",
       "   'sadness': 0.0,\n",
       "   'surprise': 0.0}},\n",
       " 3: {'gender': 'female',\n",
       "  'age': 21.0,\n",
       "  'glasses': 'NoGlasses',\n",
       "  'emotion': {'anger': 0.0,\n",
       "   'contempt': 0.0,\n",
       "   'disgust': 0.0,\n",
       "   'fear': 0.0,\n",
       "   'happiness': 1.0,\n",
       "   'neutral': 0.0,\n",
       "   'sadness': 0.0,\n",
       "   'surprise': 0.0}},\n",
       " 4: {'gender': 'female',\n",
       "  'age': 17.0,\n",
       "  'glasses': 'ReadingGlasses',\n",
       "  'emotion': {'anger': 0.0,\n",
       "   'contempt': 0.0,\n",
       "   'disgust': 0.0,\n",
       "   'fear': 0.0,\n",
       "   'happiness': 0.981,\n",
       "   'neutral': 0.019,\n",
       "   'sadness': 0.0,\n",
       "   'surprise': 0.0}},\n",
       " 5: {'gender': 'female',\n",
       "  'age': 19.0,\n",
       "  'glasses': 'NoGlasses',\n",
       "  'emotion': {'anger': 0.0,\n",
       "   'contempt': 0.0,\n",
       "   'disgust': 0.0,\n",
       "   'fear': 0.0,\n",
       "   'happiness': 1.0,\n",
       "   'neutral': 0.0,\n",
       "   'sadness': 0.0,\n",
       "   'surprise': 0.0}}}"
      ]
     },
     "execution_count": 182,
     "metadata": {},
     "output_type": "execute_result"
    }
   ],
   "source": [
    "df[\"faceAttributes\"].to_dict()"
   ]
  },
  {
   "cell_type": "code",
   "execution_count": 183,
   "metadata": {},
   "outputs": [
    {
     "data": {
      "text/html": [
       "<div>\n",
       "<style scoped>\n",
       "    .dataframe tbody tr th:only-of-type {\n",
       "        vertical-align: middle;\n",
       "    }\n",
       "\n",
       "    .dataframe tbody tr th {\n",
       "        vertical-align: top;\n",
       "    }\n",
       "\n",
       "    .dataframe thead th {\n",
       "        text-align: right;\n",
       "    }\n",
       "</style>\n",
       "<table border=\"1\" class=\"dataframe\">\n",
       "  <thead>\n",
       "    <tr style=\"text-align: right;\">\n",
       "      <th></th>\n",
       "      <th>0</th>\n",
       "      <th>1</th>\n",
       "      <th>2</th>\n",
       "      <th>3</th>\n",
       "      <th>4</th>\n",
       "      <th>5</th>\n",
       "    </tr>\n",
       "  </thead>\n",
       "  <tbody>\n",
       "    <tr>\n",
       "      <td>gender</td>\n",
       "      <td>male</td>\n",
       "      <td>female</td>\n",
       "      <td>male</td>\n",
       "      <td>female</td>\n",
       "      <td>female</td>\n",
       "      <td>female</td>\n",
       "    </tr>\n",
       "    <tr>\n",
       "      <td>age</td>\n",
       "      <td>18</td>\n",
       "      <td>20</td>\n",
       "      <td>23</td>\n",
       "      <td>21</td>\n",
       "      <td>17</td>\n",
       "      <td>19</td>\n",
       "    </tr>\n",
       "    <tr>\n",
       "      <td>glasses</td>\n",
       "      <td>NoGlasses</td>\n",
       "      <td>NoGlasses</td>\n",
       "      <td>ReadingGlasses</td>\n",
       "      <td>NoGlasses</td>\n",
       "      <td>ReadingGlasses</td>\n",
       "      <td>NoGlasses</td>\n",
       "    </tr>\n",
       "    <tr>\n",
       "      <td>emotion</td>\n",
       "      <td>{'anger': 0.0, 'contempt': 0.003, 'disgust': 0...</td>\n",
       "      <td>{'anger': 0.0, 'contempt': 0.001, 'disgust': 0...</td>\n",
       "      <td>{'anger': 0.0, 'contempt': 0.0, 'disgust': 0.0...</td>\n",
       "      <td>{'anger': 0.0, 'contempt': 0.0, 'disgust': 0.0...</td>\n",
       "      <td>{'anger': 0.0, 'contempt': 0.0, 'disgust': 0.0...</td>\n",
       "      <td>{'anger': 0.0, 'contempt': 0.0, 'disgust': 0.0...</td>\n",
       "    </tr>\n",
       "  </tbody>\n",
       "</table>\n",
       "</div>"
      ],
      "text/plain": [
       "                                                         0  \\\n",
       "gender                                                male   \n",
       "age                                                     18   \n",
       "glasses                                          NoGlasses   \n",
       "emotion  {'anger': 0.0, 'contempt': 0.003, 'disgust': 0...   \n",
       "\n",
       "                                                         1  \\\n",
       "gender                                              female   \n",
       "age                                                     20   \n",
       "glasses                                          NoGlasses   \n",
       "emotion  {'anger': 0.0, 'contempt': 0.001, 'disgust': 0...   \n",
       "\n",
       "                                                         2  \\\n",
       "gender                                                male   \n",
       "age                                                     23   \n",
       "glasses                                     ReadingGlasses   \n",
       "emotion  {'anger': 0.0, 'contempt': 0.0, 'disgust': 0.0...   \n",
       "\n",
       "                                                         3  \\\n",
       "gender                                              female   \n",
       "age                                                     21   \n",
       "glasses                                          NoGlasses   \n",
       "emotion  {'anger': 0.0, 'contempt': 0.0, 'disgust': 0.0...   \n",
       "\n",
       "                                                         4  \\\n",
       "gender                                              female   \n",
       "age                                                     17   \n",
       "glasses                                     ReadingGlasses   \n",
       "emotion  {'anger': 0.0, 'contempt': 0.0, 'disgust': 0.0...   \n",
       "\n",
       "                                                         5  \n",
       "gender                                              female  \n",
       "age                                                     19  \n",
       "glasses                                          NoGlasses  \n",
       "emotion  {'anger': 0.0, 'contempt': 0.0, 'disgust': 0.0...  "
      ]
     },
     "execution_count": 183,
     "metadata": {},
     "output_type": "execute_result"
    }
   ],
   "source": [
    "pd.DataFrame(df[\"faceAttributes\"].to_dict())"
   ]
  },
  {
   "cell_type": "code",
   "execution_count": 248,
   "metadata": {},
   "outputs": [
    {
     "data": {
      "text/html": [
       "<div>\n",
       "<style scoped>\n",
       "    .dataframe tbody tr th:only-of-type {\n",
       "        vertical-align: middle;\n",
       "    }\n",
       "\n",
       "    .dataframe tbody tr th {\n",
       "        vertical-align: top;\n",
       "    }\n",
       "\n",
       "    .dataframe thead th {\n",
       "        text-align: right;\n",
       "    }\n",
       "</style>\n",
       "<table border=\"1\" class=\"dataframe\">\n",
       "  <thead>\n",
       "    <tr style=\"text-align: right;\">\n",
       "      <th></th>\n",
       "      <th>gender</th>\n",
       "      <th>age</th>\n",
       "      <th>glasses</th>\n",
       "      <th>emotion</th>\n",
       "    </tr>\n",
       "  </thead>\n",
       "  <tbody>\n",
       "    <tr>\n",
       "      <td>0</td>\n",
       "      <td>male</td>\n",
       "      <td>18</td>\n",
       "      <td>NoGlasses</td>\n",
       "      <td>{'anger': 0.0, 'contempt': 0.003, 'disgust': 0...</td>\n",
       "    </tr>\n",
       "    <tr>\n",
       "      <td>1</td>\n",
       "      <td>female</td>\n",
       "      <td>20</td>\n",
       "      <td>NoGlasses</td>\n",
       "      <td>{'anger': 0.0, 'contempt': 0.001, 'disgust': 0...</td>\n",
       "    </tr>\n",
       "    <tr>\n",
       "      <td>2</td>\n",
       "      <td>male</td>\n",
       "      <td>23</td>\n",
       "      <td>ReadingGlasses</td>\n",
       "      <td>{'anger': 0.0, 'contempt': 0.0, 'disgust': 0.0...</td>\n",
       "    </tr>\n",
       "    <tr>\n",
       "      <td>3</td>\n",
       "      <td>female</td>\n",
       "      <td>21</td>\n",
       "      <td>NoGlasses</td>\n",
       "      <td>{'anger': 0.0, 'contempt': 0.0, 'disgust': 0.0...</td>\n",
       "    </tr>\n",
       "    <tr>\n",
       "      <td>4</td>\n",
       "      <td>female</td>\n",
       "      <td>17</td>\n",
       "      <td>ReadingGlasses</td>\n",
       "      <td>{'anger': 0.0, 'contempt': 0.0, 'disgust': 0.0...</td>\n",
       "    </tr>\n",
       "    <tr>\n",
       "      <td>5</td>\n",
       "      <td>female</td>\n",
       "      <td>19</td>\n",
       "      <td>NoGlasses</td>\n",
       "      <td>{'anger': 0.0, 'contempt': 0.0, 'disgust': 0.0...</td>\n",
       "    </tr>\n",
       "  </tbody>\n",
       "</table>\n",
       "</div>"
      ],
      "text/plain": [
       "   gender age         glasses  \\\n",
       "0    male  18       NoGlasses   \n",
       "1  female  20       NoGlasses   \n",
       "2    male  23  ReadingGlasses   \n",
       "3  female  21       NoGlasses   \n",
       "4  female  17  ReadingGlasses   \n",
       "5  female  19       NoGlasses   \n",
       "\n",
       "                                             emotion  \n",
       "0  {'anger': 0.0, 'contempt': 0.003, 'disgust': 0...  \n",
       "1  {'anger': 0.0, 'contempt': 0.001, 'disgust': 0...  \n",
       "2  {'anger': 0.0, 'contempt': 0.0, 'disgust': 0.0...  \n",
       "3  {'anger': 0.0, 'contempt': 0.0, 'disgust': 0.0...  \n",
       "4  {'anger': 0.0, 'contempt': 0.0, 'disgust': 0.0...  \n",
       "5  {'anger': 0.0, 'contempt': 0.0, 'disgust': 0.0...  "
      ]
     },
     "execution_count": 248,
     "metadata": {},
     "output_type": "execute_result"
    }
   ],
   "source": [
    "pd.DataFrame(df[\"faceAttributes\"].to_dict()).T"
   ]
  },
  {
   "cell_type": "code",
   "execution_count": 260,
   "metadata": {},
   "outputs": [
    {
     "data": {
      "text/html": [
       "<div>\n",
       "<style scoped>\n",
       "    .dataframe tbody tr th:only-of-type {\n",
       "        vertical-align: middle;\n",
       "    }\n",
       "\n",
       "    .dataframe tbody tr th {\n",
       "        vertical-align: top;\n",
       "    }\n",
       "\n",
       "    .dataframe thead th {\n",
       "        text-align: right;\n",
       "    }\n",
       "</style>\n",
       "<table border=\"1\" class=\"dataframe\">\n",
       "  <thead>\n",
       "    <tr style=\"text-align: right;\">\n",
       "      <th></th>\n",
       "      <th>emotion</th>\n",
       "    </tr>\n",
       "  </thead>\n",
       "  <tbody>\n",
       "    <tr>\n",
       "      <td>0</td>\n",
       "      <td>{'anger': 0.0, 'contempt': 0.003, 'disgust': 0...</td>\n",
       "    </tr>\n",
       "    <tr>\n",
       "      <td>1</td>\n",
       "      <td>{'anger': 0.0, 'contempt': 0.001, 'disgust': 0...</td>\n",
       "    </tr>\n",
       "    <tr>\n",
       "      <td>2</td>\n",
       "      <td>{'anger': 0.0, 'contempt': 0.0, 'disgust': 0.0...</td>\n",
       "    </tr>\n",
       "    <tr>\n",
       "      <td>3</td>\n",
       "      <td>{'anger': 0.0, 'contempt': 0.0, 'disgust': 0.0...</td>\n",
       "    </tr>\n",
       "    <tr>\n",
       "      <td>4</td>\n",
       "      <td>{'anger': 0.0, 'contempt': 0.0, 'disgust': 0.0...</td>\n",
       "    </tr>\n",
       "    <tr>\n",
       "      <td>5</td>\n",
       "      <td>{'anger': 0.0, 'contempt': 0.0, 'disgust': 0.0...</td>\n",
       "    </tr>\n",
       "  </tbody>\n",
       "</table>\n",
       "</div>"
      ],
      "text/plain": [
       "                                             emotion\n",
       "0  {'anger': 0.0, 'contempt': 0.003, 'disgust': 0...\n",
       "1  {'anger': 0.0, 'contempt': 0.001, 'disgust': 0...\n",
       "2  {'anger': 0.0, 'contempt': 0.0, 'disgust': 0.0...\n",
       "3  {'anger': 0.0, 'contempt': 0.0, 'disgust': 0.0...\n",
       "4  {'anger': 0.0, 'contempt': 0.0, 'disgust': 0.0...\n",
       "5  {'anger': 0.0, 'contempt': 0.0, 'disgust': 0.0..."
      ]
     },
     "execution_count": 260,
     "metadata": {},
     "output_type": "execute_result"
    }
   ],
   "source": [
    "faces_emotion = pd.DataFrame(df[\"faceAttributes\"].to_dict()).T.loc[:,['emotion']]\n",
    "type(faces_emotion)\n",
    "faces_emotion"
   ]
  },
  {
   "cell_type": "code",
   "execution_count": 236,
   "metadata": {},
   "outputs": [
    {
     "data": {
      "text/html": [
       "<div>\n",
       "<style scoped>\n",
       "    .dataframe tbody tr th:only-of-type {\n",
       "        vertical-align: middle;\n",
       "    }\n",
       "\n",
       "    .dataframe tbody tr th {\n",
       "        vertical-align: top;\n",
       "    }\n",
       "\n",
       "    .dataframe thead th {\n",
       "        text-align: right;\n",
       "    }\n",
       "</style>\n",
       "<table border=\"1\" class=\"dataframe\">\n",
       "  <thead>\n",
       "    <tr style=\"text-align: right;\">\n",
       "      <th></th>\n",
       "      <th>faceAttributes</th>\n",
       "    </tr>\n",
       "  </thead>\n",
       "  <tbody>\n",
       "    <tr>\n",
       "      <td>0</td>\n",
       "      <td>{'gender': 'male', 'age': 18.0, 'glasses': 'No...</td>\n",
       "    </tr>\n",
       "    <tr>\n",
       "      <td>1</td>\n",
       "      <td>{'gender': 'female', 'age': 20.0, 'glasses': '...</td>\n",
       "    </tr>\n",
       "    <tr>\n",
       "      <td>2</td>\n",
       "      <td>{'gender': 'male', 'age': 23.0, 'glasses': 'Re...</td>\n",
       "    </tr>\n",
       "    <tr>\n",
       "      <td>3</td>\n",
       "      <td>{'gender': 'female', 'age': 21.0, 'glasses': '...</td>\n",
       "    </tr>\n",
       "    <tr>\n",
       "      <td>4</td>\n",
       "      <td>{'gender': 'female', 'age': 17.0, 'glasses': '...</td>\n",
       "    </tr>\n",
       "    <tr>\n",
       "      <td>5</td>\n",
       "      <td>{'gender': 'female', 'age': 19.0, 'glasses': '...</td>\n",
       "    </tr>\n",
       "  </tbody>\n",
       "</table>\n",
       "</div>"
      ],
      "text/plain": [
       "                                      faceAttributes\n",
       "0  {'gender': 'male', 'age': 18.0, 'glasses': 'No...\n",
       "1  {'gender': 'female', 'age': 20.0, 'glasses': '...\n",
       "2  {'gender': 'male', 'age': 23.0, 'glasses': 'Re...\n",
       "3  {'gender': 'female', 'age': 21.0, 'glasses': '...\n",
       "4  {'gender': 'female', 'age': 17.0, 'glasses': '...\n",
       "5  {'gender': 'female', 'age': 19.0, 'glasses': '..."
      ]
     },
     "execution_count": 236,
     "metadata": {},
     "output_type": "execute_result"
    }
   ],
   "source": [
    "pd.DataFrame(df[\"faceAttributes\"])"
   ]
  },
  {
   "cell_type": "code",
   "execution_count": 190,
   "metadata": {},
   "outputs": [
    {
     "data": {
      "text/plain": [
       "0    {'gender': 'male', 'age': 18.0, 'glasses': 'No...\n",
       "1    {'gender': 'female', 'age': 20.0, 'glasses': '...\n",
       "2    {'gender': 'male', 'age': 23.0, 'glasses': 'Re...\n",
       "3    {'gender': 'female', 'age': 21.0, 'glasses': '...\n",
       "4    {'gender': 'female', 'age': 17.0, 'glasses': '...\n",
       "5    {'gender': 'female', 'age': 19.0, 'glasses': '...\n",
       "Name: faceAttributes, dtype: object"
      ]
     },
     "execution_count": 190,
     "metadata": {},
     "output_type": "execute_result"
    }
   ],
   "source": [
    "import numpy as np  # missing value np.nan\n",
    "missing_value = {\"emotion\": {'sadness': np.nan, 'neutral': np.nan, 'disgust': np.nan, 'anger': np.nan, 'surprise': np.nan, 'fear': np.nan, 'happiness': np.nan}}\n",
    "df[\"faceAttributes\"] = df[\"faceAttributes\"].fillna(missing_value)\n",
    "df[\"faceAttributes\"]"
   ]
  },
  {
   "cell_type": "code",
   "execution_count": 191,
   "metadata": {},
   "outputs": [
    {
     "data": {
      "text/plain": [
       "0    {'gender': 'male', 'age': 18.0, 'glasses': 'No...\n",
       "1    {'gender': 'female', 'age': 20.0, 'glasses': '...\n",
       "2    {'gender': 'male', 'age': 23.0, 'glasses': 'Re...\n",
       "3    {'gender': 'female', 'age': 21.0, 'glasses': '...\n",
       "4    {'gender': 'female', 'age': 17.0, 'glasses': '...\n",
       "5    {'gender': 'female', 'age': 19.0, 'glasses': '...\n",
       "Name: faceAttributes, dtype: object"
      ]
     },
     "execution_count": 191,
     "metadata": {},
     "output_type": "execute_result"
    }
   ],
   "source": [
    "df[\"faceAttributes\"].fillna(\"\")"
   ]
  },
  {
   "cell_type": "code",
   "execution_count": 235,
   "metadata": {},
   "outputs": [
    {
     "name": "stdout",
     "output_type": "stream",
     "text": [
      "0 male\n",
      "0 18.0\n",
      "0 NoGlasses\n",
      "0 {'anger': 0.0, 'contempt': 0.003, 'disgust': 0.0, 'fear': 0.0, 'happiness': 0.813, 'neutral': 0.184, 'sadness': 0.0, 'surprise': 0.0}\n",
      "1 female\n",
      "1 20.0\n",
      "1 NoGlasses\n",
      "1 {'anger': 0.0, 'contempt': 0.001, 'disgust': 0.0, 'fear': 0.0, 'happiness': 0.456, 'neutral': 0.542, 'sadness': 0.001, 'surprise': 0.0}\n",
      "2 male\n",
      "2 23.0\n",
      "2 ReadingGlasses\n",
      "2 {'anger': 0.0, 'contempt': 0.0, 'disgust': 0.0, 'fear': 0.0, 'happiness': 1.0, 'neutral': 0.0, 'sadness': 0.0, 'surprise': 0.0}\n",
      "3 female\n",
      "3 21.0\n",
      "3 NoGlasses\n",
      "3 {'anger': 0.0, 'contempt': 0.0, 'disgust': 0.0, 'fear': 0.0, 'happiness': 1.0, 'neutral': 0.0, 'sadness': 0.0, 'surprise': 0.0}\n",
      "4 female\n",
      "4 17.0\n",
      "4 ReadingGlasses\n",
      "4 {'anger': 0.0, 'contempt': 0.0, 'disgust': 0.0, 'fear': 0.0, 'happiness': 0.981, 'neutral': 0.019, 'sadness': 0.0, 'surprise': 0.0}\n",
      "5 female\n",
      "5 19.0\n",
      "5 NoGlasses\n",
      "5 {'anger': 0.0, 'contempt': 0.0, 'disgust': 0.0, 'fear': 0.0, 'happiness': 1.0, 'neutral': 0.0, 'sadness': 0.0, 'surprise': 0.0}\n"
     ]
    }
   ],
   "source": [
    "for i in df[\"faceAttributes\"].index:\n",
    "    print (i,df[\"faceAttributes\"].loc[i].get(\"gender\"))\n",
    "    print (i,df[\"faceAttributes\"].loc[i].get(\"age\"))\n",
    "    print (i,df[\"faceAttributes\"].loc[i].get(\"glasses\"))\n",
    "    print (i,df[\"faceAttributes\"].loc[i].get(\"emotion\"))"
   ]
  }
 ],
 "metadata": {
  "kernelspec": {
   "display_name": "Python 3",
   "language": "python",
   "name": "python3"
  },
  "language_info": {
   "codemirror_mode": {
    "name": "ipython",
    "version": 3
   },
   "file_extension": ".py",
   "mimetype": "text/x-python",
   "name": "python",
   "nbconvert_exporter": "python",
   "pygments_lexer": "ipython3",
   "version": "3.7.4"
  }
 },
 "nbformat": 4,
 "nbformat_minor": 2
}
